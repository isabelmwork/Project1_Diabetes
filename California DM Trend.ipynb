{
 "cells": [
  {
   "cell_type": "code",
   "execution_count": 1,
   "id": "6ffb0c05",
   "metadata": {},
   "outputs": [],
   "source": [
    "import pandas as pd\n",
    "import numpy as np\n",
    "import requests\n",
    "import json\n",
    "\n",
    "import matplotlib.pyplot as plt\n",
    "from scipy.stats import linregress\n",
    "\n",
    "from pathlib import Path"
   ]
  },
  {
   "cell_type": "code",
   "execution_count": 2,
   "id": "b237802d",
   "metadata": {},
   "outputs": [],
   "source": [
    "CA_cases_per_100_path = Path(\"Datasets/CA_adults_with_diabetes_per_100.csv\")\n",
    "CA_cases_per_100_data = pd.read_csv(CA_cases_per_100_path)"
   ]
  },
  {
   "cell_type": "code",
   "execution_count": 3,
   "id": "80930ea9",
   "metadata": {},
   "outputs": [
    {
     "data": {
      "text/html": [
       "<div>\n",
       "<style scoped>\n",
       "    .dataframe tbody tr th:only-of-type {\n",
       "        vertical-align: middle;\n",
       "    }\n",
       "\n",
       "    .dataframe tbody tr th {\n",
       "        vertical-align: top;\n",
       "    }\n",
       "\n",
       "    .dataframe thead th {\n",
       "        text-align: right;\n",
       "    }\n",
       "</style>\n",
       "<table border=\"1\" class=\"dataframe\">\n",
       "  <thead>\n",
       "    <tr style=\"text-align: right;\">\n",
       "      <th></th>\n",
       "      <th>Geography</th>\n",
       "      <th>Year</th>\n",
       "      <th>Strata</th>\n",
       "      <th>Strata Name</th>\n",
       "      <th>Percent</th>\n",
       "      <th>Lower 95% CL</th>\n",
       "      <th>Upper 95% CL</th>\n",
       "      <th>Standard Error</th>\n",
       "    </tr>\n",
       "  </thead>\n",
       "  <tbody>\n",
       "    <tr>\n",
       "      <th>0</th>\n",
       "      <td>California</td>\n",
       "      <td>2018</td>\n",
       "      <td>Total population</td>\n",
       "      <td>Total population</td>\n",
       "      <td>10.4</td>\n",
       "      <td>8.9</td>\n",
       "      <td>11.9</td>\n",
       "      <td>0.8</td>\n",
       "    </tr>\n",
       "    <tr>\n",
       "      <th>1</th>\n",
       "      <td>California</td>\n",
       "      <td>2018</td>\n",
       "      <td>Race-Ethnicity</td>\n",
       "      <td>White</td>\n",
       "      <td>8.4</td>\n",
       "      <td>6.9</td>\n",
       "      <td>9.9</td>\n",
       "      <td>0.8</td>\n",
       "    </tr>\n",
       "    <tr>\n",
       "      <th>2</th>\n",
       "      <td>California</td>\n",
       "      <td>2018</td>\n",
       "      <td>Race-Ethnicity</td>\n",
       "      <td>African-American</td>\n",
       "      <td>12.3</td>\n",
       "      <td>6.0</td>\n",
       "      <td>18.6</td>\n",
       "      <td>3.2</td>\n",
       "    </tr>\n",
       "    <tr>\n",
       "      <th>3</th>\n",
       "      <td>California</td>\n",
       "      <td>2018</td>\n",
       "      <td>Race-Ethnicity</td>\n",
       "      <td>Asian</td>\n",
       "      <td>8.5</td>\n",
       "      <td>3.2</td>\n",
       "      <td>13.9</td>\n",
       "      <td>2.7</td>\n",
       "    </tr>\n",
       "    <tr>\n",
       "      <th>4</th>\n",
       "      <td>California</td>\n",
       "      <td>2018</td>\n",
       "      <td>Race-Ethnicity</td>\n",
       "      <td>Hispanic</td>\n",
       "      <td>12.1</td>\n",
       "      <td>9.0</td>\n",
       "      <td>15.1</td>\n",
       "      <td>1.6</td>\n",
       "    </tr>\n",
       "  </tbody>\n",
       "</table>\n",
       "</div>"
      ],
      "text/plain": [
       "    Geography  Year            Strata       Strata Name  Percent  \\\n",
       "0  California  2018  Total population  Total population     10.4   \n",
       "1  California  2018    Race-Ethnicity             White      8.4   \n",
       "2  California  2018    Race-Ethnicity  African-American     12.3   \n",
       "3  California  2018    Race-Ethnicity             Asian      8.5   \n",
       "4  California  2018    Race-Ethnicity          Hispanic     12.1   \n",
       "\n",
       "   Lower 95% CL  Upper 95% CL  Standard Error  \n",
       "0           8.9          11.9             0.8  \n",
       "1           6.9           9.9             0.8  \n",
       "2           6.0          18.6             3.2  \n",
       "3           3.2          13.9             2.7  \n",
       "4           9.0          15.1             1.6  "
      ]
     },
     "execution_count": 3,
     "metadata": {},
     "output_type": "execute_result"
    }
   ],
   "source": [
    "CA_cases_per_100_data.head()"
   ]
  },
  {
   "cell_type": "markdown",
   "id": "8b83f5ed",
   "metadata": {},
   "source": [
    "# How does California diabetes prevalence change overtime? "
   ]
  },
  {
   "cell_type": "code",
   "execution_count": 4,
   "id": "16664059",
   "metadata": {},
   "outputs": [
    {
     "data": {
      "text/plain": [
       "147"
      ]
     },
     "execution_count": 4,
     "metadata": {},
     "output_type": "execute_result"
    }
   ],
   "source": [
    "#just cause\n",
    "data_count = len(CA_cases_per_100_data)\n",
    "data_count"
   ]
  },
  {
   "cell_type": "code",
   "execution_count": 5,
   "id": "a2d66329",
   "metadata": {},
   "outputs": [
    {
     "data": {
      "text/plain": [
       "{2012: [126, 127, 128, 129, 130, 131, 132, 133, 134, 135, 136, 137, 138, 139, 140, 141, 142, 143, 144, 145, 146], 2013: [105, 106, 107, 108, 109, 110, 111, 112, 113, 114, 115, 116, 117, 118, 119, 120, 121, 122, 123, 124, 125], 2014: [84, 85, 86, 87, 88, 89, 90, 91, 92, 93, 94, 95, 96, 97, 98, 99, 100, 101, 102, 103, 104], 2015: [63, 64, 65, 66, 67, 68, 69, 70, 71, 72, 73, 74, 75, 76, 77, 78, 79, 80, 81, 82, 83], 2016: [42, 43, 44, 45, 46, 47, 48, 49, 50, 51, 52, 53, 54, 55, 56, 57, 58, 59, 60, 61, 62], 2017: [21, 22, 23, 24, 25, 26, 27, 28, 29, 30, 31, 32, 33, 34, 35, 36, 37, 38, 39, 40, 41], 2018: [0, 1, 2, 3, 4, 5, 6, 7, 8, 9, 10, 11, 12, 13, 14, 15, 16, 17, 18, 19, 20]}"
      ]
     },
     "execution_count": 5,
     "metadata": {},
     "output_type": "execute_result"
    }
   ],
   "source": [
    "#group by year\n",
    "year = CA_cases_per_100_data.groupby(\"Year\")\n",
    "year.groups"
   ]
  },
  {
   "cell_type": "code",
   "execution_count": 6,
   "id": "36c9fa6b",
   "metadata": {},
   "outputs": [
    {
     "data": {
      "text/html": [
       "<div>\n",
       "<style scoped>\n",
       "    .dataframe tbody tr th:only-of-type {\n",
       "        vertical-align: middle;\n",
       "    }\n",
       "\n",
       "    .dataframe tbody tr th {\n",
       "        vertical-align: top;\n",
       "    }\n",
       "\n",
       "    .dataframe thead th {\n",
       "        text-align: right;\n",
       "    }\n",
       "</style>\n",
       "<table border=\"1\" class=\"dataframe\">\n",
       "  <thead>\n",
       "    <tr style=\"text-align: right;\">\n",
       "      <th></th>\n",
       "      <th>Year</th>\n",
       "      <th>Strata Name</th>\n",
       "      <th>Percent</th>\n",
       "    </tr>\n",
       "  </thead>\n",
       "  <tbody>\n",
       "    <tr>\n",
       "      <th>0</th>\n",
       "      <td>2018</td>\n",
       "      <td>Total population</td>\n",
       "      <td>10.4</td>\n",
       "    </tr>\n",
       "    <tr>\n",
       "      <th>1</th>\n",
       "      <td>2018</td>\n",
       "      <td>White</td>\n",
       "      <td>8.4</td>\n",
       "    </tr>\n",
       "    <tr>\n",
       "      <th>2</th>\n",
       "      <td>2018</td>\n",
       "      <td>African-American</td>\n",
       "      <td>12.3</td>\n",
       "    </tr>\n",
       "    <tr>\n",
       "      <th>3</th>\n",
       "      <td>2018</td>\n",
       "      <td>Asian</td>\n",
       "      <td>8.5</td>\n",
       "    </tr>\n",
       "    <tr>\n",
       "      <th>4</th>\n",
       "      <td>2018</td>\n",
       "      <td>Hispanic</td>\n",
       "      <td>12.1</td>\n",
       "    </tr>\n",
       "    <tr>\n",
       "      <th>...</th>\n",
       "      <td>...</td>\n",
       "      <td>...</td>\n",
       "      <td>...</td>\n",
       "    </tr>\n",
       "    <tr>\n",
       "      <th>142</th>\n",
       "      <td>2012</td>\n",
       "      <td>$25,000 to $34,999</td>\n",
       "      <td>11.9</td>\n",
       "    </tr>\n",
       "    <tr>\n",
       "      <th>143</th>\n",
       "      <td>2012</td>\n",
       "      <td>$35,000 to $49,999</td>\n",
       "      <td>9.5</td>\n",
       "    </tr>\n",
       "    <tr>\n",
       "      <th>144</th>\n",
       "      <td>2012</td>\n",
       "      <td>$50,000 and above</td>\n",
       "      <td>6.3</td>\n",
       "    </tr>\n",
       "    <tr>\n",
       "      <th>145</th>\n",
       "      <td>2012</td>\n",
       "      <td>Male</td>\n",
       "      <td>9.7</td>\n",
       "    </tr>\n",
       "    <tr>\n",
       "      <th>146</th>\n",
       "      <td>2012</td>\n",
       "      <td>Female</td>\n",
       "      <td>8.7</td>\n",
       "    </tr>\n",
       "  </tbody>\n",
       "</table>\n",
       "<p>147 rows × 3 columns</p>\n",
       "</div>"
      ],
      "text/plain": [
       "     Year         Strata Name  Percent\n",
       "0    2018    Total population     10.4\n",
       "1    2018               White      8.4\n",
       "2    2018    African-American     12.3\n",
       "3    2018               Asian      8.5\n",
       "4    2018            Hispanic     12.1\n",
       "..    ...                 ...      ...\n",
       "142  2012  $25,000 to $34,999     11.9\n",
       "143  2012  $35,000 to $49,999      9.5\n",
       "144  2012   $50,000 and above      6.3\n",
       "145  2012                Male      9.7\n",
       "146  2012              Female      8.7\n",
       "\n",
       "[147 rows x 3 columns]"
      ]
     },
     "execution_count": 6,
     "metadata": {},
     "output_type": "execute_result"
    }
   ],
   "source": [
    "reduced_df = CA_cases_per_100_data[[\"Year\",\"Strata Name\",\"Percent\"]]\n",
    "reduced_df"
   ]
  },
  {
   "cell_type": "code",
   "execution_count": 7,
   "id": "7bb72159",
   "metadata": {},
   "outputs": [
    {
     "data": {
      "text/html": [
       "<div>\n",
       "<style scoped>\n",
       "    .dataframe tbody tr th:only-of-type {\n",
       "        vertical-align: middle;\n",
       "    }\n",
       "\n",
       "    .dataframe tbody tr th {\n",
       "        vertical-align: top;\n",
       "    }\n",
       "\n",
       "    .dataframe thead th {\n",
       "        text-align: right;\n",
       "    }\n",
       "</style>\n",
       "<table border=\"1\" class=\"dataframe\">\n",
       "  <thead>\n",
       "    <tr style=\"text-align: right;\">\n",
       "      <th></th>\n",
       "      <th>Year</th>\n",
       "      <th>Strata Name</th>\n",
       "      <th>Percent</th>\n",
       "    </tr>\n",
       "  </thead>\n",
       "  <tbody>\n",
       "    <tr>\n",
       "      <th>0</th>\n",
       "      <td>2018</td>\n",
       "      <td>Total population</td>\n",
       "      <td>10.4</td>\n",
       "    </tr>\n",
       "    <tr>\n",
       "      <th>21</th>\n",
       "      <td>2017</td>\n",
       "      <td>Total population</td>\n",
       "      <td>8.2</td>\n",
       "    </tr>\n",
       "    <tr>\n",
       "      <th>42</th>\n",
       "      <td>2016</td>\n",
       "      <td>Total population</td>\n",
       "      <td>10.2</td>\n",
       "    </tr>\n",
       "    <tr>\n",
       "      <th>63</th>\n",
       "      <td>2015</td>\n",
       "      <td>Total population</td>\n",
       "      <td>9.0</td>\n",
       "    </tr>\n",
       "    <tr>\n",
       "      <th>84</th>\n",
       "      <td>2014</td>\n",
       "      <td>Total population</td>\n",
       "      <td>9.4</td>\n",
       "    </tr>\n",
       "    <tr>\n",
       "      <th>105</th>\n",
       "      <td>2013</td>\n",
       "      <td>Total population</td>\n",
       "      <td>9.5</td>\n",
       "    </tr>\n",
       "    <tr>\n",
       "      <th>126</th>\n",
       "      <td>2012</td>\n",
       "      <td>Total population</td>\n",
       "      <td>9.2</td>\n",
       "    </tr>\n",
       "  </tbody>\n",
       "</table>\n",
       "</div>"
      ],
      "text/plain": [
       "     Year       Strata Name  Percent\n",
       "0    2018  Total population     10.4\n",
       "21   2017  Total population      8.2\n",
       "42   2016  Total population     10.2\n",
       "63   2015  Total population      9.0\n",
       "84   2014  Total population      9.4\n",
       "105  2013  Total population      9.5\n",
       "126  2012  Total population      9.2"
      ]
     },
     "execution_count": 7,
     "metadata": {},
     "output_type": "execute_result"
    }
   ],
   "source": [
    "total_pop = reduced_df.loc[reduced_df[\"Strata Name\"] ==\"Total population\"]\n",
    "total_pop"
   ]
  },
  {
   "cell_type": "code",
   "execution_count": 8,
   "id": "74ba1b18",
   "metadata": {},
   "outputs": [
    {
     "data": {
      "text/html": [
       "<div>\n",
       "<style scoped>\n",
       "    .dataframe tbody tr th:only-of-type {\n",
       "        vertical-align: middle;\n",
       "    }\n",
       "\n",
       "    .dataframe tbody tr th {\n",
       "        vertical-align: top;\n",
       "    }\n",
       "\n",
       "    .dataframe thead th {\n",
       "        text-align: right;\n",
       "    }\n",
       "</style>\n",
       "<table border=\"1\" class=\"dataframe\">\n",
       "  <thead>\n",
       "    <tr style=\"text-align: right;\">\n",
       "      <th></th>\n",
       "      <th>Percent</th>\n",
       "    </tr>\n",
       "    <tr>\n",
       "      <th>Year</th>\n",
       "      <th></th>\n",
       "    </tr>\n",
       "  </thead>\n",
       "  <tbody>\n",
       "    <tr>\n",
       "      <th>2018</th>\n",
       "      <td>10.4</td>\n",
       "    </tr>\n",
       "    <tr>\n",
       "      <th>2017</th>\n",
       "      <td>8.2</td>\n",
       "    </tr>\n",
       "    <tr>\n",
       "      <th>2016</th>\n",
       "      <td>10.2</td>\n",
       "    </tr>\n",
       "    <tr>\n",
       "      <th>2015</th>\n",
       "      <td>9.0</td>\n",
       "    </tr>\n",
       "    <tr>\n",
       "      <th>2014</th>\n",
       "      <td>9.4</td>\n",
       "    </tr>\n",
       "    <tr>\n",
       "      <th>2013</th>\n",
       "      <td>9.5</td>\n",
       "    </tr>\n",
       "    <tr>\n",
       "      <th>2012</th>\n",
       "      <td>9.2</td>\n",
       "    </tr>\n",
       "  </tbody>\n",
       "</table>\n",
       "</div>"
      ],
      "text/plain": [
       "      Percent\n",
       "Year         \n",
       "2018     10.4\n",
       "2017      8.2\n",
       "2016     10.2\n",
       "2015      9.0\n",
       "2014      9.4\n",
       "2013      9.5\n",
       "2012      9.2"
      ]
     },
     "execution_count": 8,
     "metadata": {},
     "output_type": "execute_result"
    }
   ],
   "source": [
    "clean_pop = total_pop.set_index(\"Year\").drop(columns = \"Strata Name\")\n",
    "clean_pop"
   ]
  },
  {
   "cell_type": "code",
   "execution_count": 9,
   "id": "fa342c7d",
   "metadata": {},
   "outputs": [
    {
     "data": {
      "text/plain": [
       "<matplotlib.legend.Legend at 0x205394fb3d0>"
      ]
     },
     "execution_count": 9,
     "metadata": {},
     "output_type": "execute_result"
    },
    {
     "data": {
      "image/png": "[encoded data removed]",
      "text/plain": [
       "<Figure size 640x480 with 1 Axes>"
      ]
     },
     "metadata": {},
     "output_type": "display_data"
    }
   ],
   "source": [
    "#create line plot but the lines are connected\n",
    "clean_pop.plot(xlabel = \"Year\", ylabel = \"% diabetes\")\n",
    "plt.ylim(0,12)\n",
    "plt.legend(loc=\"lower right\")"
   ]
  },
  {
   "cell_type": "code",
   "execution_count": 10,
   "id": "a114032e",
   "metadata": {},
   "outputs": [
    {
     "data": {
      "text/html": [
       "<div>\n",
       "<style scoped>\n",
       "    .dataframe tbody tr th:only-of-type {\n",
       "        vertical-align: middle;\n",
       "    }\n",
       "\n",
       "    .dataframe tbody tr th {\n",
       "        vertical-align: top;\n",
       "    }\n",
       "\n",
       "    .dataframe thead th {\n",
       "        text-align: right;\n",
       "    }\n",
       "</style>\n",
       "<table border=\"1\" class=\"dataframe\">\n",
       "  <thead>\n",
       "    <tr style=\"text-align: right;\">\n",
       "      <th></th>\n",
       "      <th>Year</th>\n",
       "      <th>Percent</th>\n",
       "    </tr>\n",
       "  </thead>\n",
       "  <tbody>\n",
       "    <tr>\n",
       "      <th>0</th>\n",
       "      <td>2018</td>\n",
       "      <td>10.4</td>\n",
       "    </tr>\n",
       "    <tr>\n",
       "      <th>1</th>\n",
       "      <td>2017</td>\n",
       "      <td>8.2</td>\n",
       "    </tr>\n",
       "    <tr>\n",
       "      <th>2</th>\n",
       "      <td>2016</td>\n",
       "      <td>10.2</td>\n",
       "    </tr>\n",
       "    <tr>\n",
       "      <th>3</th>\n",
       "      <td>2015</td>\n",
       "      <td>9.0</td>\n",
       "    </tr>\n",
       "    <tr>\n",
       "      <th>4</th>\n",
       "      <td>2014</td>\n",
       "      <td>9.4</td>\n",
       "    </tr>\n",
       "    <tr>\n",
       "      <th>5</th>\n",
       "      <td>2013</td>\n",
       "      <td>9.5</td>\n",
       "    </tr>\n",
       "    <tr>\n",
       "      <th>6</th>\n",
       "      <td>2012</td>\n",
       "      <td>9.2</td>\n",
       "    </tr>\n",
       "  </tbody>\n",
       "</table>\n",
       "</div>"
      ],
      "text/plain": [
       "   Year  Percent\n",
       "0  2018     10.4\n",
       "1  2017      8.2\n",
       "2  2016     10.2\n",
       "3  2015      9.0\n",
       "4  2014      9.4\n",
       "5  2013      9.5\n",
       "6  2012      9.2"
      ]
     },
     "execution_count": 10,
     "metadata": {},
     "output_type": "execute_result"
    }
   ],
   "source": [
    "clean_pop = clean_pop.reset_index()\n",
    "clean_pop"
   ]
  },
  {
   "cell_type": "code",
   "execution_count": 11,
   "id": "6570579a",
   "metadata": {},
   "outputs": [
    {
     "data": {
      "text/html": [
       "<div>\n",
       "<style scoped>\n",
       "    .dataframe tbody tr th:only-of-type {\n",
       "        vertical-align: middle;\n",
       "    }\n",
       "\n",
       "    .dataframe tbody tr th {\n",
       "        vertical-align: top;\n",
       "    }\n",
       "\n",
       "    .dataframe thead th {\n",
       "        text-align: right;\n",
       "    }\n",
       "</style>\n",
       "<table border=\"1\" class=\"dataframe\">\n",
       "  <thead>\n",
       "    <tr style=\"text-align: right;\">\n",
       "      <th></th>\n",
       "      <th>Year</th>\n",
       "      <th>Diabetes Prevalence</th>\n",
       "    </tr>\n",
       "  </thead>\n",
       "  <tbody>\n",
       "    <tr>\n",
       "      <th>0</th>\n",
       "      <td>2018</td>\n",
       "      <td>0.104</td>\n",
       "    </tr>\n",
       "    <tr>\n",
       "      <th>1</th>\n",
       "      <td>2017</td>\n",
       "      <td>0.082</td>\n",
       "    </tr>\n",
       "    <tr>\n",
       "      <th>2</th>\n",
       "      <td>2016</td>\n",
       "      <td>0.102</td>\n",
       "    </tr>\n",
       "    <tr>\n",
       "      <th>3</th>\n",
       "      <td>2015</td>\n",
       "      <td>0.090</td>\n",
       "    </tr>\n",
       "    <tr>\n",
       "      <th>4</th>\n",
       "      <td>2014</td>\n",
       "      <td>0.094</td>\n",
       "    </tr>\n",
       "    <tr>\n",
       "      <th>5</th>\n",
       "      <td>2013</td>\n",
       "      <td>0.095</td>\n",
       "    </tr>\n",
       "    <tr>\n",
       "      <th>6</th>\n",
       "      <td>2012</td>\n",
       "      <td>0.092</td>\n",
       "    </tr>\n",
       "  </tbody>\n",
       "</table>\n",
       "</div>"
      ],
      "text/plain": [
       "   Year  Diabetes Prevalence\n",
       "0  2018                0.104\n",
       "1  2017                0.082\n",
       "2  2016                0.102\n",
       "3  2015                0.090\n",
       "4  2014                0.094\n",
       "5  2013                0.095\n",
       "6  2012                0.092"
      ]
     },
     "execution_count": 11,
     "metadata": {},
     "output_type": "execute_result"
    }
   ],
   "source": [
    "clean_pop[\"Percent\"] = clean_pop[\"Percent\"]/100\n",
    "clean_pop = clean_pop.rename(columns = {\"Percent\":\"Diabetes Prevalence\"})\n",
    "clean_pop"
   ]
  },
  {
   "cell_type": "code",
   "execution_count": 12,
   "id": "32d93c06",
   "metadata": {},
   "outputs": [],
   "source": [
    "# Dept. of Finance total population in 2018: 39,557,045\n",
    "# Dept. of Finance Total Population in 2012: 38,041,430\n",
    "pop_2018 = 39557045\n",
    "pop_2012 = 38041430"
   ]
  },
  {
   "cell_type": "code",
   "execution_count": 13,
   "id": "d8592f83",
   "metadata": {},
   "outputs": [
    {
     "data": {
      "text/plain": [
       "4113932.68"
      ]
     },
     "execution_count": 13,
     "metadata": {},
     "output_type": "execute_result"
    }
   ],
   "source": [
    "estimated_diabetes_2018 = clean_pop.loc[clean_pop[\"Year\"] == 2018][\"Diabetes Prevalence\"].iloc[0] * pop_2018\n",
    "estimated_diabetes_2018\n",
    "# 4,913,933"
   ]
  },
  {
   "cell_type": "code",
   "execution_count": 14,
   "id": "82d593be",
   "metadata": {},
   "outputs": [
    {
     "data": {
      "text/plain": [
       "3499811.56"
      ]
     },
     "execution_count": 14,
     "metadata": {},
     "output_type": "execute_result"
    }
   ],
   "source": [
    "estimated_diabetes_2012 = clean_pop.loc[clean_pop[\"Year\"] == 2012][\"Diabetes Prevalence\"].iloc[0] * pop_2012\n",
    "estimated_diabetes_2012\n",
    "# 3,499,812"
   ]
  },
  {
   "cell_type": "code",
   "execution_count": 15,
   "id": "ed813594",
   "metadata": {},
   "outputs": [
    {
     "data": {
      "text/plain": [
       "614121.1200000001"
      ]
     },
     "execution_count": 15,
     "metadata": {},
     "output_type": "execute_result"
    }
   ],
   "source": [
    "# HELP\n",
    "# 2018 people with dm - 2012 people with dm \n",
    "change_2018_2012 = estimated_diabetes_2018 - estimated_diabetes_2012\n",
    "change_2018_2012\n",
    "# 614,121"
   ]
  },
  {
   "cell_type": "code",
   "execution_count": 16,
   "id": "91e4469f",
   "metadata": {},
   "outputs": [
    {
     "data": {
      "text/plain": [
       "17.547262458896505"
      ]
     },
     "execution_count": 16,
     "metadata": {},
     "output_type": "execute_result"
    }
   ],
   "source": [
    "# HELP\n",
    "# (pop_2018 - pop_2012) /pop_2012 *100 = % increase in diabetes population\n",
    "delta_dm_pop = ((change_2018_2012) / estimated_diabetes_2012) * 100\n",
    "delta_dm_pop"
   ]
  },
  {
   "cell_type": "code",
   "execution_count": 17,
   "id": "d4db0cf9",
   "metadata": {},
   "outputs": [],
   "source": [
    "#pop_2018 = clean_pop.loc[clean_pop[\"Year\"] == 2018]\n",
    "#pop_2018"
   ]
  },
  {
   "cell_type": "code",
   "execution_count": 18,
   "id": "2a68d9d2",
   "metadata": {},
   "outputs": [],
   "source": [
    "#dm_pop_2018 = clean_pop.loc[clean_pop[\"Year\"] == 2018, \"Percent\"]/100\n",
    "#dm_pop_2018"
   ]
  },
  {
   "cell_type": "code",
   "execution_count": 19,
   "id": "a2fd29b7",
   "metadata": {},
   "outputs": [],
   "source": [
    "# Dept. of Finance total population in 2018: 39,557,045\n",
    "\n",
    "#dm_numbers_2018 = dm_pop_2018 * 39557045\n",
    "#dm_numbers_2018"
   ]
  },
  {
   "cell_type": "code",
   "execution_count": 20,
   "id": "6302494e",
   "metadata": {},
   "outputs": [],
   "source": [
    "#pop_2012 = clean_pop.loc[clean_pop[\"Year\"] == 2012]\n",
    "#pop_2012"
   ]
  },
  {
   "cell_type": "code",
   "execution_count": 21,
   "id": "f81760d6",
   "metadata": {},
   "outputs": [],
   "source": [
    "#dm_pop_2012 = clean_pop.loc[clean_pop[\"Year\"] == 2012, \"Percent\"]/100\n",
    "#dm_pop_2012"
   ]
  },
  {
   "cell_type": "code",
   "execution_count": 22,
   "id": "d871bf63",
   "metadata": {},
   "outputs": [],
   "source": [
    "# Dept. of Finance Total Population in 2012: 38,041,430\n",
    "\n",
    "#dm_numbers_2012 = dm_pop_2012 * 38041430\n",
    "#dm_numbers_2012"
   ]
  },
  {
   "cell_type": "code",
   "execution_count": 34,
   "id": "7a065f6d",
   "metadata": {},
   "outputs": [
    {
     "data": {
      "text/plain": [
       "1515615"
      ]
     },
     "execution_count": 34,
     "metadata": {},
     "output_type": "execute_result"
    }
   ],
   "source": [
    "total2018_population = 39557045\n",
    "total2012_population = 38041430\n",
    "change_in_population = total2018_population - total2012_population\n",
    "change_in_population\n",
    "# 1,515,615"
   ]
  },
  {
   "cell_type": "code",
   "execution_count": 35,
   "id": "f19069ea",
   "metadata": {},
   "outputs": [
    {
     "data": {
      "text/plain": [
       "103.9841167905623"
      ]
     },
     "execution_count": 35,
     "metadata": {},
     "output_type": "execute_result"
    }
   ],
   "source": [
    "percentage_change = (total2018_population/total2012_population) * 100\n",
    "percentage_change"
   ]
  },
  {
   "cell_type": "markdown",
   "id": "cf8d1c91",
   "metadata": {},
   "source": [
    "### Analysis: \n",
    "There has been a 1.2 % increase in California residents being diagnosed with diabetes between 2012 and 2018.\n",
    "In 2012, there were 3,499,812 residents with diabetes and 5 years later in 2018 there were 4,113,933 people with diabetes. This is 614,121 more people with diabetes. The data percentages already take into account the changes in population each year."
   ]
  },
  {
   "cell_type": "markdown",
   "id": "c2c5d3a2",
   "metadata": {},
   "source": [
    "# In California, does a particular race have more diabetes than others? "
   ]
  },
  {
   "cell_type": "code",
   "execution_count": 25,
   "id": "ca21ba8c",
   "metadata": {},
   "outputs": [],
   "source": [
    "CA_diabetes_race_path = Path(\"Datasets/CA_adults_with_diabetes_per_100.csv\")\n",
    "CA_diabetes_race_data = pd.read_csv(CA_cases_per_100_path)"
   ]
  },
  {
   "cell_type": "code",
   "execution_count": 26,
   "id": "cf87bb18",
   "metadata": {},
   "outputs": [
    {
     "data": {
      "text/html": [
       "<div>\n",
       "<style scoped>\n",
       "    .dataframe tbody tr th:only-of-type {\n",
       "        vertical-align: middle;\n",
       "    }\n",
       "\n",
       "    .dataframe tbody tr th {\n",
       "        vertical-align: top;\n",
       "    }\n",
       "\n",
       "    .dataframe thead th {\n",
       "        text-align: right;\n",
       "    }\n",
       "</style>\n",
       "<table border=\"1\" class=\"dataframe\">\n",
       "  <thead>\n",
       "    <tr style=\"text-align: right;\">\n",
       "      <th></th>\n",
       "      <th>Geography</th>\n",
       "      <th>Year</th>\n",
       "      <th>Strata</th>\n",
       "      <th>Strata Name</th>\n",
       "      <th>Percent</th>\n",
       "      <th>Lower 95% CL</th>\n",
       "      <th>Upper 95% CL</th>\n",
       "      <th>Standard Error</th>\n",
       "    </tr>\n",
       "  </thead>\n",
       "  <tbody>\n",
       "    <tr>\n",
       "      <th>0</th>\n",
       "      <td>California</td>\n",
       "      <td>2018</td>\n",
       "      <td>Total population</td>\n",
       "      <td>Total population</td>\n",
       "      <td>10.4</td>\n",
       "      <td>8.9</td>\n",
       "      <td>11.9</td>\n",
       "      <td>0.8</td>\n",
       "    </tr>\n",
       "    <tr>\n",
       "      <th>1</th>\n",
       "      <td>California</td>\n",
       "      <td>2018</td>\n",
       "      <td>Race-Ethnicity</td>\n",
       "      <td>White</td>\n",
       "      <td>8.4</td>\n",
       "      <td>6.9</td>\n",
       "      <td>9.9</td>\n",
       "      <td>0.8</td>\n",
       "    </tr>\n",
       "    <tr>\n",
       "      <th>2</th>\n",
       "      <td>California</td>\n",
       "      <td>2018</td>\n",
       "      <td>Race-Ethnicity</td>\n",
       "      <td>African-American</td>\n",
       "      <td>12.3</td>\n",
       "      <td>6.0</td>\n",
       "      <td>18.6</td>\n",
       "      <td>3.2</td>\n",
       "    </tr>\n",
       "    <tr>\n",
       "      <th>3</th>\n",
       "      <td>California</td>\n",
       "      <td>2018</td>\n",
       "      <td>Race-Ethnicity</td>\n",
       "      <td>Asian</td>\n",
       "      <td>8.5</td>\n",
       "      <td>3.2</td>\n",
       "      <td>13.9</td>\n",
       "      <td>2.7</td>\n",
       "    </tr>\n",
       "    <tr>\n",
       "      <th>4</th>\n",
       "      <td>California</td>\n",
       "      <td>2018</td>\n",
       "      <td>Race-Ethnicity</td>\n",
       "      <td>Hispanic</td>\n",
       "      <td>12.1</td>\n",
       "      <td>9.0</td>\n",
       "      <td>15.1</td>\n",
       "      <td>1.6</td>\n",
       "    </tr>\n",
       "  </tbody>\n",
       "</table>\n",
       "</div>"
      ],
      "text/plain": [
       "    Geography  Year            Strata       Strata Name  Percent  \\\n",
       "0  California  2018  Total population  Total population     10.4   \n",
       "1  California  2018    Race-Ethnicity             White      8.4   \n",
       "2  California  2018    Race-Ethnicity  African-American     12.3   \n",
       "3  California  2018    Race-Ethnicity             Asian      8.5   \n",
       "4  California  2018    Race-Ethnicity          Hispanic     12.1   \n",
       "\n",
       "   Lower 95% CL  Upper 95% CL  Standard Error  \n",
       "0           8.9          11.9             0.8  \n",
       "1           6.9           9.9             0.8  \n",
       "2           6.0          18.6             3.2  \n",
       "3           3.2          13.9             2.7  \n",
       "4           9.0          15.1             1.6  "
      ]
     },
     "execution_count": 26,
     "metadata": {},
     "output_type": "execute_result"
    }
   ],
   "source": [
    "CA_diabetes_race_data.head()"
   ]
  },
  {
   "cell_type": "code",
   "execution_count": 27,
   "id": "7f9a4825",
   "metadata": {},
   "outputs": [
    {
     "data": {
      "text/plain": [
       "Index(['Geography', 'Year', 'Strata', 'Strata Name', 'Percent', 'Lower 95% CL',\n",
       "       'Upper 95% CL', 'Standard Error'],\n",
       "      dtype='object')"
      ]
     },
     "execution_count": 27,
     "metadata": {},
     "output_type": "execute_result"
    }
   ],
   "source": [
    "CA_diabetes_race_data.columns"
   ]
  },
  {
   "cell_type": "code",
   "execution_count": 28,
   "id": "7a9459e6",
   "metadata": {},
   "outputs": [
    {
     "data": {
      "text/html": [
       "<div>\n",
       "<style scoped>\n",
       "    .dataframe tbody tr th:only-of-type {\n",
       "        vertical-align: middle;\n",
       "    }\n",
       "\n",
       "    .dataframe tbody tr th {\n",
       "        vertical-align: top;\n",
       "    }\n",
       "\n",
       "    .dataframe thead th {\n",
       "        text-align: right;\n",
       "    }\n",
       "</style>\n",
       "<table border=\"1\" class=\"dataframe\">\n",
       "  <thead>\n",
       "    <tr style=\"text-align: right;\">\n",
       "      <th></th>\n",
       "      <th>Year</th>\n",
       "      <th>Race</th>\n",
       "      <th>Percent</th>\n",
       "    </tr>\n",
       "  </thead>\n",
       "  <tbody>\n",
       "    <tr>\n",
       "      <th>1</th>\n",
       "      <td>2018</td>\n",
       "      <td>White</td>\n",
       "      <td>8.4</td>\n",
       "    </tr>\n",
       "    <tr>\n",
       "      <th>2</th>\n",
       "      <td>2018</td>\n",
       "      <td>African-American</td>\n",
       "      <td>12.3</td>\n",
       "    </tr>\n",
       "    <tr>\n",
       "      <th>3</th>\n",
       "      <td>2018</td>\n",
       "      <td>Asian</td>\n",
       "      <td>8.5</td>\n",
       "    </tr>\n",
       "    <tr>\n",
       "      <th>4</th>\n",
       "      <td>2018</td>\n",
       "      <td>Hispanic</td>\n",
       "      <td>12.1</td>\n",
       "    </tr>\n",
       "    <tr>\n",
       "      <th>22</th>\n",
       "      <td>2017</td>\n",
       "      <td>White</td>\n",
       "      <td>7.6</td>\n",
       "    </tr>\n",
       "    <tr>\n",
       "      <th>23</th>\n",
       "      <td>2017</td>\n",
       "      <td>African-American</td>\n",
       "      <td>12.1</td>\n",
       "    </tr>\n",
       "    <tr>\n",
       "      <th>24</th>\n",
       "      <td>2017</td>\n",
       "      <td>Asian</td>\n",
       "      <td>4.4</td>\n",
       "    </tr>\n",
       "    <tr>\n",
       "      <th>25</th>\n",
       "      <td>2017</td>\n",
       "      <td>Hispanic</td>\n",
       "      <td>9.7</td>\n",
       "    </tr>\n",
       "    <tr>\n",
       "      <th>43</th>\n",
       "      <td>2016</td>\n",
       "      <td>White</td>\n",
       "      <td>9.0</td>\n",
       "    </tr>\n",
       "    <tr>\n",
       "      <th>44</th>\n",
       "      <td>2016</td>\n",
       "      <td>African-American</td>\n",
       "      <td>10.7</td>\n",
       "    </tr>\n",
       "    <tr>\n",
       "      <th>45</th>\n",
       "      <td>2016</td>\n",
       "      <td>Asian</td>\n",
       "      <td>11.8</td>\n",
       "    </tr>\n",
       "    <tr>\n",
       "      <th>46</th>\n",
       "      <td>2016</td>\n",
       "      <td>Hispanic</td>\n",
       "      <td>10.3</td>\n",
       "    </tr>\n",
       "    <tr>\n",
       "      <th>64</th>\n",
       "      <td>2015</td>\n",
       "      <td>White</td>\n",
       "      <td>7.4</td>\n",
       "    </tr>\n",
       "    <tr>\n",
       "      <th>65</th>\n",
       "      <td>2015</td>\n",
       "      <td>African-American</td>\n",
       "      <td>13.0</td>\n",
       "    </tr>\n",
       "    <tr>\n",
       "      <th>66</th>\n",
       "      <td>2015</td>\n",
       "      <td>Asian</td>\n",
       "      <td>9.7</td>\n",
       "    </tr>\n",
       "    <tr>\n",
       "      <th>67</th>\n",
       "      <td>2015</td>\n",
       "      <td>Hispanic</td>\n",
       "      <td>10.5</td>\n",
       "    </tr>\n",
       "    <tr>\n",
       "      <th>85</th>\n",
       "      <td>2014</td>\n",
       "      <td>White</td>\n",
       "      <td>7.6</td>\n",
       "    </tr>\n",
       "    <tr>\n",
       "      <th>86</th>\n",
       "      <td>2014</td>\n",
       "      <td>African-American</td>\n",
       "      <td>19.6</td>\n",
       "    </tr>\n",
       "    <tr>\n",
       "      <th>87</th>\n",
       "      <td>2014</td>\n",
       "      <td>Asian</td>\n",
       "      <td>8.2</td>\n",
       "    </tr>\n",
       "    <tr>\n",
       "      <th>88</th>\n",
       "      <td>2014</td>\n",
       "      <td>Hispanic</td>\n",
       "      <td>10.7</td>\n",
       "    </tr>\n",
       "    <tr>\n",
       "      <th>106</th>\n",
       "      <td>2013</td>\n",
       "      <td>White</td>\n",
       "      <td>7.8</td>\n",
       "    </tr>\n",
       "    <tr>\n",
       "      <th>107</th>\n",
       "      <td>2013</td>\n",
       "      <td>African-American</td>\n",
       "      <td>16.5</td>\n",
       "    </tr>\n",
       "    <tr>\n",
       "      <th>108</th>\n",
       "      <td>2013</td>\n",
       "      <td>Asian</td>\n",
       "      <td>7.4</td>\n",
       "    </tr>\n",
       "    <tr>\n",
       "      <th>109</th>\n",
       "      <td>2013</td>\n",
       "      <td>Hispanic</td>\n",
       "      <td>11.3</td>\n",
       "    </tr>\n",
       "    <tr>\n",
       "      <th>127</th>\n",
       "      <td>2012</td>\n",
       "      <td>White</td>\n",
       "      <td>8.2</td>\n",
       "    </tr>\n",
       "    <tr>\n",
       "      <th>128</th>\n",
       "      <td>2012</td>\n",
       "      <td>African-American</td>\n",
       "      <td>13.7</td>\n",
       "    </tr>\n",
       "    <tr>\n",
       "      <th>129</th>\n",
       "      <td>2012</td>\n",
       "      <td>Asian</td>\n",
       "      <td>6.1</td>\n",
       "    </tr>\n",
       "    <tr>\n",
       "      <th>130</th>\n",
       "      <td>2012</td>\n",
       "      <td>Hispanic</td>\n",
       "      <td>10.9</td>\n",
       "    </tr>\n",
       "  </tbody>\n",
       "</table>\n",
       "</div>"
      ],
      "text/plain": [
       "     Year              Race  Percent\n",
       "1    2018             White      8.4\n",
       "2    2018  African-American     12.3\n",
       "3    2018             Asian      8.5\n",
       "4    2018          Hispanic     12.1\n",
       "22   2017             White      7.6\n",
       "23   2017  African-American     12.1\n",
       "24   2017             Asian      4.4\n",
       "25   2017          Hispanic      9.7\n",
       "43   2016             White      9.0\n",
       "44   2016  African-American     10.7\n",
       "45   2016             Asian     11.8\n",
       "46   2016          Hispanic     10.3\n",
       "64   2015             White      7.4\n",
       "65   2015  African-American     13.0\n",
       "66   2015             Asian      9.7\n",
       "67   2015          Hispanic     10.5\n",
       "85   2014             White      7.6\n",
       "86   2014  African-American     19.6\n",
       "87   2014             Asian      8.2\n",
       "88   2014          Hispanic     10.7\n",
       "106  2013             White      7.8\n",
       "107  2013  African-American     16.5\n",
       "108  2013             Asian      7.4\n",
       "109  2013          Hispanic     11.3\n",
       "127  2012             White      8.2\n",
       "128  2012  African-American     13.7\n",
       "129  2012             Asian      6.1\n",
       "130  2012          Hispanic     10.9"
      ]
     },
     "execution_count": 28,
     "metadata": {},
     "output_type": "execute_result"
    }
   ],
   "source": [
    "reduced_df = CA_diabetes_race_data.loc[CA_diabetes_race_data[\"Strata\"] == \"Race-Ethnicity\"]\n",
    "reduced_df = reduced_df[[\"Year\", 'Strata Name', \"Percent\"]]\n",
    "Race_DF = reduced_df.rename(columns = {\"Strata Name\":\"Race\"})\n",
    "Race_DF"
   ]
  },
  {
   "cell_type": "code",
   "execution_count": 29,
   "id": "9d7180cb",
   "metadata": {},
   "outputs": [],
   "source": [
    "#Race_DF = reduced_df.loc[(reduced_df[\"Race\"] == 'Asian')|(reduced_df[\"Race\"] == 'White')|(reduced_df[\"Race\"] == 'African-American')|(reduced_df[\"Race\"] == 'Hispanic')]\n",
    "#Race_DF"
   ]
  },
  {
   "cell_type": "code",
   "execution_count": 30,
   "id": "f1822110",
   "metadata": {},
   "outputs": [],
   "source": [
    "pivot_table = Race_DF.pivot_table(index= 'Year', columns= 'Race', values= 'Percent')"
   ]
  },
  {
   "cell_type": "code",
   "execution_count": 31,
   "id": "90b42678",
   "metadata": {},
   "outputs": [
    {
     "data": {
      "image/png": "[encoded data removed]",
      "text/plain": [
       "<Figure size 1000x600 with 1 Axes>"
      ]
     },
     "metadata": {},
     "output_type": "display_data"
    }
   ],
   "source": [
    "pivot_table.plot(kind= 'line', marker= 'o', figsize=(10,6))\n",
    "plt.xlabel('Year', fontsize=20)\n",
    "plt.ylabel('Percentage of Diabetics', fontsize=20)\n",
    "plt.title('Percentage of Diabetics in California by Race', fontsize=24)\n",
    "plt.legend(title='Race', loc='best')\n",
    "plt.xticks(pivot_table.index, rotation=45, ha='right')\n",
    "plt.gca().spines['left'].set_linewidth(2)\n",
    "plt.gca().spines['right'].set_linewidth(2)\n",
    "plt.gca().spines['bottom'].set_linewidth(2)\n",
    "plt.gca().spines['top'].set_linewidth(2)\n",
    "plt.show()"
   ]
  },
  {
   "cell_type": "code",
   "execution_count": null,
   "id": "44382def",
   "metadata": {},
   "outputs": [],
   "source": []
  }
 ],
 "metadata": {
  "kernelspec": {
   "display_name": "Python 3 (ipykernel)",
   "language": "python",
   "name": "python3"
  },
  "language_info": {
   "codemirror_mode": {
    "name": "ipython",
    "version": 3
   },
   "file_extension": ".py",
   "mimetype": "text/x-python",
   "name": "python",
   "nbconvert_exporter": "python",
   "pygments_lexer": "ipython3",
   "version": "3.11.3"
  }
 },
 "nbformat": 4,
 "nbformat_minor": 5
}
