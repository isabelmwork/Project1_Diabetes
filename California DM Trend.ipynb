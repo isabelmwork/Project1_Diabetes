{
 "cells": [
  {
   "cell_type": "code",
   "execution_count": 2,
   "id": "a39a19b6",
   "metadata": {},
   "outputs": [],
   "source": [
    "import pandas as pd\n",
    "import numpy as np\n",
    "import requests\n",
    "import json\n",
    "\n",
    "import matplotlib.pyplot as plt\n",
    "from scipy.stats import linregress\n",
    "\n",
    "from pathlib import Path"
   ]
  },
  {
   "cell_type": "code",
   "execution_count": 3,
   "id": "6c057a27",
   "metadata": {},
   "outputs": [],
   "source": [
    "CA_cases_per_100_path = Path(\"Datasets/CA_adults_with_diabetes_per_100.csv\")\n",
    "CA_cases_per_100_data = pd.read_csv(CA_cases_per_100_path)"
   ]
  },
  {
   "cell_type": "code",
   "execution_count": 4,
   "id": "f8867da9",
   "metadata": {},
   "outputs": [
    {
     "data": {
      "text/html": [
       "<div>\n",
       "<style scoped>\n",
       "    .dataframe tbody tr th:only-of-type {\n",
       "        vertical-align: middle;\n",
       "    }\n",
       "\n",
       "    .dataframe tbody tr th {\n",
       "        vertical-align: top;\n",
       "    }\n",
       "\n",
       "    .dataframe thead th {\n",
       "        text-align: right;\n",
       "    }\n",
       "</style>\n",
       "<table border=\"1\" class=\"dataframe\">\n",
       "  <thead>\n",
       "    <tr style=\"text-align: right;\">\n",
       "      <th></th>\n",
       "      <th>Geography</th>\n",
       "      <th>Year</th>\n",
       "      <th>Strata</th>\n",
       "      <th>Strata Name</th>\n",
       "      <th>Percent</th>\n",
       "      <th>Lower 95% CL</th>\n",
       "      <th>Upper 95% CL</th>\n",
       "      <th>Standard Error</th>\n",
       "    </tr>\n",
       "  </thead>\n",
       "  <tbody>\n",
       "    <tr>\n",
       "      <th>0</th>\n",
       "      <td>California</td>\n",
       "      <td>2018</td>\n",
       "      <td>Total population</td>\n",
       "      <td>Total population</td>\n",
       "      <td>10.4</td>\n",
       "      <td>8.9</td>\n",
       "      <td>11.9</td>\n",
       "      <td>0.8</td>\n",
       "    </tr>\n",
       "    <tr>\n",
       "      <th>1</th>\n",
       "      <td>California</td>\n",
       "      <td>2018</td>\n",
       "      <td>Race-Ethnicity</td>\n",
       "      <td>White</td>\n",
       "      <td>8.4</td>\n",
       "      <td>6.9</td>\n",
       "      <td>9.9</td>\n",
       "      <td>0.8</td>\n",
       "    </tr>\n",
       "    <tr>\n",
       "      <th>2</th>\n",
       "      <td>California</td>\n",
       "      <td>2018</td>\n",
       "      <td>Race-Ethnicity</td>\n",
       "      <td>African-American</td>\n",
       "      <td>12.3</td>\n",
       "      <td>6.0</td>\n",
       "      <td>18.6</td>\n",
       "      <td>3.2</td>\n",
       "    </tr>\n",
       "    <tr>\n",
       "      <th>3</th>\n",
       "      <td>California</td>\n",
       "      <td>2018</td>\n",
       "      <td>Race-Ethnicity</td>\n",
       "      <td>Asian</td>\n",
       "      <td>8.5</td>\n",
       "      <td>3.2</td>\n",
       "      <td>13.9</td>\n",
       "      <td>2.7</td>\n",
       "    </tr>\n",
       "    <tr>\n",
       "      <th>4</th>\n",
       "      <td>California</td>\n",
       "      <td>2018</td>\n",
       "      <td>Race-Ethnicity</td>\n",
       "      <td>Hispanic</td>\n",
       "      <td>12.1</td>\n",
       "      <td>9.0</td>\n",
       "      <td>15.1</td>\n",
       "      <td>1.6</td>\n",
       "    </tr>\n",
       "  </tbody>\n",
       "</table>\n",
       "</div>"
      ],
      "text/plain": [
       "    Geography  Year            Strata       Strata Name  Percent  \\\n",
       "0  California  2018  Total population  Total population     10.4   \n",
       "1  California  2018    Race-Ethnicity             White      8.4   \n",
       "2  California  2018    Race-Ethnicity  African-American     12.3   \n",
       "3  California  2018    Race-Ethnicity             Asian      8.5   \n",
       "4  California  2018    Race-Ethnicity          Hispanic     12.1   \n",
       "\n",
       "   Lower 95% CL  Upper 95% CL  Standard Error  \n",
       "0           8.9          11.9             0.8  \n",
       "1           6.9           9.9             0.8  \n",
       "2           6.0          18.6             3.2  \n",
       "3           3.2          13.9             2.7  \n",
       "4           9.0          15.1             1.6  "
      ]
     },
     "execution_count": 4,
     "metadata": {},
     "output_type": "execute_result"
    }
   ],
   "source": [
    "CA_cases_per_100_data.head()"
   ]
  },
  {
   "cell_type": "code",
   "execution_count": null,
   "id": "abdd6192",
   "metadata": {},
   "outputs": [],
   "source": []
  }
 ],
 "metadata": {
  "kernelspec": {
   "display_name": "Python 3 (ipykernel)",
   "language": "python",
   "name": "python3"
  },
  "language_info": {
   "codemirror_mode": {
    "name": "ipython",
    "version": 3
   },
   "file_extension": ".py",
   "mimetype": "text/x-python",
   "name": "python",
   "nbconvert_exporter": "python",
   "pygments_lexer": "ipython3",
   "version": "3.11.3"
  }
 },
 "nbformat": 4,
 "nbformat_minor": 5
}
